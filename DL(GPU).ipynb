{
 "cells": [
  {
   "cell_type": "markdown",
   "id": "bec56339",
   "metadata": {},
   "source": [
    "# 1. Import the required libraries"
   ]
  },
  {
   "cell_type": "code",
   "execution_count": 1,
   "id": "46631608",
   "metadata": {},
   "outputs": [],
   "source": [
    "##---------Type the code below this line------------------##\n",
    "import tensorflow as tf\n",
    "from tensorflow import keras\n",
    "import matplotlib.pyplot as plt\n",
    "import numpy as np"
   ]
  },
  {
   "cell_type": "code",
   "execution_count": 2,
   "id": "da1c1098",
   "metadata": {},
   "outputs": [
    {
     "data": {
      "text/plain": [
       "[PhysicalDevice(name='/physical_device:GPU:0', device_type='GPU')]"
      ]
     },
     "execution_count": 2,
     "metadata": {},
     "output_type": "execute_result"
    }
   ],
   "source": [
    "tf.config.list_physical_devices('GPU')"
   ]
  },
  {
   "cell_type": "code",
   "execution_count": 3,
   "id": "0df8ed49",
   "metadata": {},
   "outputs": [
    {
     "data": {
      "text/plain": [
       "'2.10.0'"
      ]
     },
     "execution_count": 3,
     "metadata": {},
     "output_type": "execute_result"
    }
   ],
   "source": [
    "tf.__version__"
   ]
  },
  {
   "cell_type": "code",
   "execution_count": 4,
   "id": "4a24ef79",
   "metadata": {},
   "outputs": [
    {
     "data": {
      "text/plain": [
       "False"
      ]
     },
     "execution_count": 4,
     "metadata": {},
     "output_type": "execute_result"
    }
   ],
   "source": [
    "tf.test.is_built_with_cuda()"
   ]
  },
  {
   "cell_type": "code",
   "execution_count": 5,
   "id": "96d377c8",
   "metadata": {},
   "outputs": [],
   "source": [
    "tf.debugging.set_log_device_placement(True)"
   ]
  },
  {
   "attachments": {},
   "cell_type": "markdown",
   "id": "3cc8e0cb",
   "metadata": {
    "id": "3cc8e0cb"
   },
   "source": [
    "# 2. Data Acquisition\n",
    " \n",
    "For the problem identified by you, students have to find the data source themselves from any data source.\n",
    "\n",
    "## 2.1 Code for converting the above downloaded data into a form suitable for DL\n",
    "\n"
   ]
  },
  {
   "cell_type": "code",
   "execution_count": 6,
   "id": "4b51d895",
   "metadata": {
    "id": "4b51d895"
   },
   "outputs": [],
   "source": [
    "##---------Type the code below this line------------------##\n",
    "(x_train, y_train), (x_test, y_test) = keras.datasets.cifar10.load_data()"
   ]
  },
  {
   "attachments": {},
   "cell_type": "markdown",
   "id": "812edb18",
   "metadata": {
    "id": "812edb18"
   },
   "source": [
    "## 2.1 Write your observations from the above. \n",
    "\n",
    "1. Size of the dataset\n",
    "2. What type of data attributes are there?\n",
    "3. What are you classifying?\n",
    "4. Plot the distribution of the categories of the target / label. "
   ]
  },
  {
   "cell_type": "code",
   "execution_count": 7,
   "id": "60d80d2f",
   "metadata": {
    "id": "60d80d2f"
   },
   "outputs": [
    {
     "name": "stdout",
     "output_type": "stream",
     "text": [
      "Training dataset size:  (50000, 32, 32, 3)\n",
      "Test dataset size:  (10000, 32, 32, 3)\n"
     ]
    }
   ],
   "source": [
    "#--------------Type the  below this line--------------\n",
    "################################################################\n",
    "# 2.1.1.: Size of the dataset\n",
    "################################################################\n",
    "print(\"Training dataset size: \", x_train.shape)\n",
    "print(\"Test dataset size: \", x_test.shape)"
   ]
  },
  {
   "cell_type": "code",
   "execution_count": 8,
   "id": "c86385d7",
   "metadata": {},
   "outputs": [
    {
     "name": "stdout",
     "output_type": "stream",
     "text": [
      "The datatype of the training dataset is <class 'numpy.ndarray'>\n",
      "The unique target values are [0 1 2 3 4 5 6 7 8 9]\n",
      "The unique training values are [  0   1   2   3   4   5   6   7   8   9  10  11  12  13  14  15  16  17\n",
      "  18  19  20  21  22  23  24  25  26  27  28  29  30  31  32  33  34  35\n",
      "  36  37  38  39  40  41  42  43  44  45  46  47  48  49  50  51  52  53\n",
      "  54  55  56  57  58  59  60  61  62  63  64  65  66  67  68  69  70  71\n",
      "  72  73  74  75  76  77  78  79  80  81  82  83  84  85  86  87  88  89\n",
      "  90  91  92  93  94  95  96  97  98  99 100 101 102 103 104 105 106 107\n",
      " 108 109 110 111 112 113 114 115 116 117 118 119 120 121 122 123 124 125\n",
      " 126 127 128 129 130 131 132 133 134 135 136 137 138 139 140 141 142 143\n",
      " 144 145 146 147 148 149 150 151 152 153 154 155 156 157 158 159 160 161\n",
      " 162 163 164 165 166 167 168 169 170 171 172 173 174 175 176 177 178 179\n",
      " 180 181 182 183 184 185 186 187 188 189 190 191 192 193 194 195 196 197\n",
      " 198 199 200 201 202 203 204 205 206 207 208 209 210 211 212 213 214 215\n",
      " 216 217 218 219 220 221 222 223 224 225 226 227 228 229 230 231 232 233\n",
      " 234 235 236 237 238 239 240 241 242 243 244 245 246 247 248 249 250 251\n",
      " 252 253 254 255]\n"
     ]
    }
   ],
   "source": [
    "################################################################\n",
    "# 2.1.2.: What type of data attributes are there?\n",
    "################################################################\n",
    "print(\"The datatype of the training dataset is\", type(x_train))\n",
    "print(\"The unique target values are\", np.unique(y_train))\n",
    "print(\"The unique training values are\", np.unique(x_train))\n",
    "################################################################################################################################\n",
    "# From the output of the above statements, it's clear that we are dealing with numerical data attributes.\n",
    "#   - the input numerical values images of size 32x32 pixels with 3 color channels\n",
    "#   - the target numerical values represent the following labels\n",
    "#       Label\tDescription\n",
    "#       0\tairplane\n",
    "#       1\tautomobile\n",
    "#       2\tbird\n",
    "#       3\tcat\n",
    "#       4\tdeer\n",
    "#       5\tdog\n",
    "#       6\tfrog\n",
    "#       7\thorse\n",
    "#       8\tship\n",
    "#       9\ttruck\n",
    "# Source: https://www.tensorflow.org/api_docs/python/tf/keras/datasets/cifar10/load_data\n",
    "################################################################################################################################"
   ]
  },
  {
   "cell_type": "code",
   "execution_count": 9,
   "id": "397a8311",
   "metadata": {},
   "outputs": [],
   "source": [
    "################################################################################################################################\n",
    "# 2.1.3. What are you classifying?\n",
    "# We are classifying small color images of size 32x32, labeled over 10 categories.\n",
    "# Source: https://www.tensorflow.org/api_docs/python/tf/keras/datasets/cifar10/load_data\n",
    "################################################################################################################################"
   ]
  },
  {
   "cell_type": "code",
   "execution_count": 10,
   "id": "b57584ba",
   "metadata": {},
   "outputs": [
    {
     "data": {
      "image/png": "[encoded data removed]",
      "text/plain": [
       "<Figure size 640x480 with 1 Axes>"
      ]
     },
     "metadata": {},
     "output_type": "display_data"
    }
   ],
   "source": [
    "################################################################################################################################\n",
    "# 2.1.4. Plot the distribution of the categories of the target / label. \n",
    "################################################################################################################################\n",
    "# Get the unique categories\n",
    "categories = np.unique(y_train)\n",
    "\n",
    "# Count the number of images in each category\n",
    "counts = np.zeros(len(categories))\n",
    "for i in y_train:\n",
    "    counts[i[0]] += 1\n",
    "\n",
    "# Plot the distribution of the categories\n",
    "plt.bar(categories, counts)\n",
    "plt.xlabel('Category')\n",
    "plt.ylabel('Count')\n",
    "plt.title('Distribution of Categories in CIFAR10 Dataset')\n",
    "plt.show()\n",
    "################################################################################################################################\n",
    "# The plot below shows that the training dataset is balanced across categories... having 5000 images in each category.\n",
    "################################################################################################################################"
   ]
  },
  {
   "cell_type": "markdown",
   "id": "102e0e36",
   "metadata": {
    "id": "102e0e36"
   },
   "source": [
    "# 3. Data Preparation -- Score: 1 Mark\n",
    "\n",
    "Perform the data prepracessing that is required for the data that you have downloaded. \n",
    "\n",
    "\n",
    "This stage depends on the dataset that is used. "
   ]
  },
  {
   "cell_type": "markdown",
   "id": "06fdebf8",
   "metadata": {
    "id": "06fdebf8"
   },
   "source": [
    "## 3.1 Apply pre-processing techiniques\n",
    "\n",
    "* to remove duplicate data\n",
    "* to impute or remove missing data\n",
    "* to remove data inconsistencies\n",
    "* Encode categorical data\n",
    "* Normalize the data\n",
    "* Feature Engineering\n",
    "* Stop word removal, lemmatiation, stemming, vectorization\n",
    "\n",
    "\n",
    "IF ANY"
   ]
  },
  {
   "cell_type": "code",
   "execution_count": 11,
   "id": "c34a47ae",
   "metadata": {},
   "outputs": [],
   "source": [
    "##---------Type the code below this line------------------##\n",
    "################################################################################################################################\n",
    "# [Normalize the input data:]\n",
    "# We'll normalize the input images pixels' color value from the range (0, 255) to the range (0, 1).\n",
    "################################################################################################################################\n",
    "x_train = x_train/np.ptp(x_train)\n",
    "x_test = x_test/np.ptp(x_test)"
   ]
  },
  {
   "cell_type": "code",
   "execution_count": 12,
   "id": "dd3118eb",
   "metadata": {
    "id": "dd3118eb"
   },
   "outputs": [
    {
     "name": "stdout",
     "output_type": "stream",
     "text": [
      "(50000,)\n",
      "(10000,)\n"
     ]
    }
   ],
   "source": [
    "################################################################################################################################\n",
    "# [Feature Engineering:]\n",
    "# We'll flatten the target variables from 1x1 arrays into a flat list for easier correspondence with input images.\n",
    "################################################################################################################################\n",
    "y_train, y_test = (y_train.reshape(-1,), y_test.reshape(-1,))   #-1 ensures that first dimension is kept as it is; blank 2nd dimension ensures that the other dimensions are flattened.\n",
    "print(y_train.shape)\n",
    "print(y_test.shape)"
   ]
  },
  {
   "cell_type": "markdown",
   "id": "793cd04b",
   "metadata": {
    "id": "793cd04b"
   },
   "source": [
    "## 3.2 Identify the target variables.\n",
    "\n",
    "* Separate the data front the target such that the dataset is in the form of (X,y) or (Features, Label)\n",
    "\n",
    "* Discretize / Encode the target variable or perform one-hot encoding on the target or any other as and if required.\n",
    "\n",
    "\n",
    "\n"
   ]
  },
  {
   "cell_type": "code",
   "execution_count": 13,
   "id": "c9089b57",
   "metadata": {
    "id": "c9089b57"
   },
   "outputs": [],
   "source": [
    "##---------Type the code below this line------------------##\n",
    "################################################################################################################################\n",
    "# Tensorflow's load_data() function separates the dataset in the form (X,y) on its own. Hence, this step isn't required.\n",
    "################################################################################################################################\n",
    "\n",
    "# one-hot encoded encoding on the target:\n",
    "y_train = keras.utils.to_categorical(y_train, num_classes=10, dtype='float32')\n",
    "y_test = keras.utils.to_categorical(y_test, num_classes=10, dtype='float32')"
   ]
  },
  {
   "cell_type": "code",
   "execution_count": 14,
   "id": "8e0c299c",
   "metadata": {},
   "outputs": [],
   "source": [
    "target_class_labels = ['airplane','automobile','bird','cat','deer','dog','frog','horse','ship','truck',]"
   ]
  },
  {
   "cell_type": "markdown",
   "id": "4cd14601",
   "metadata": {},
   "source": [
    "## 3.3 Split the data into training set and testing set"
   ]
  },
  {
   "cell_type": "code",
   "execution_count": 15,
   "id": "1a74cd9c",
   "metadata": {},
   "outputs": [],
   "source": [
    "##---------Type the code below this line------------------##\n",
    "################################################################################################\n",
    "# Tensorflow's load_data() function does this splitting implicitly for us.\n",
    "# As shown in section 2.1.1., \n",
    "#   - the training set consists of 50000 training samples;\n",
    "#   - the test set consists of 10000 training samples.\n",
    "################################################################################################"
   ]
  },
  {
   "cell_type": "markdown",
   "id": "e3cec4fc",
   "metadata": {
    "id": "e3cec4fc"
   },
   "source": [
    "## 3.4 Preprocessing report\n",
    "\n",
    "Mention the method adopted  and justify why the method was used\n",
    "* to remove duplicate data, if present \n",
    "* to impute or remove missing data, if present \n",
    "* to remove data inconsistencies, if present \n",
    "* to encode categorical data \n",
    "* the normalization technique used\n",
    "\n",
    "If the any of the above are not present, then also add in the report below.\n",
    "\n",
    "Report the size of the training dataset and testing dataset\n"
   ]
  },
  {
   "cell_type": "code",
   "execution_count": 16,
   "id": "71c77697",
   "metadata": {},
   "outputs": [
    {
     "name": "stdout",
     "output_type": "stream",
     "text": [
      "Training dataset size:  (50000, 32, 32, 3)\n",
      "Test dataset size:  (10000, 32, 32, 3)\n"
     ]
    }
   ],
   "source": [
    "##---------Type the answer below this line------------------##\n",
    "#################################################################################################################################\n",
    "# Ours is a very healthy dataset. It doesn't require any of these preprocessing steps.\n",
    "# Also, instead of being a data-oriented dataset, ours is an image-based dataset. \n",
    "#       - Hence, also, doesn't require any of these preprocessing steps.\n",
    "# We've already one-hot encocded the target values in section 3.2. above; hence, that's not required here either.\n",
    "#################################################################################################################################\n",
    "print(\"Training dataset size: \", x_train.shape)\n",
    "print(\"Test dataset size: \", x_test.shape)"
   ]
  },
  {
   "cell_type": "markdown",
   "id": "3ae0b5d2",
   "metadata": {
    "id": "3ae0b5d2"
   },
   "source": [
    "# 4. Deep Neural Network Architecture - Score:  Marks\n"
   ]
  },
  {
   "cell_type": "markdown",
   "id": "186bf4d7",
   "metadata": {
    "id": "186bf4d7"
   },
   "source": [
    "## 4.1 Design the architecture that you will be using\n",
    "\n",
    "* Sequential Model Building with Activation for each layer.\n",
    "* Add dense layers, specifying the number of units in each layer and the activation function used in the layer.\n",
    "* Use Relu Activation function in each hidden layer\n",
    "* Use Sigmoid / softmax Activation function in the output layer as required\n",
    "\n",
    "DO NOT USE CNN OR RNN. "
   ]
  },
  {
   "cell_type": "code",
   "execution_count": 17,
   "id": "868d7b27",
   "metadata": {
    "id": "868d7b27"
   },
   "outputs": [
    {
     "name": "stdout",
     "output_type": "stream",
     "text": [
      "Executing op _EagerConst in device /job:localhost/replica:0/task:0/device:GPU:0\n",
      "Executing op VarHandleOp in device /job:localhost/replica:0/task:0/device:GPU:0\n",
      "Executing op AssignVariableOp in device /job:localhost/replica:0/task:0/device:GPU:0\n",
      "Executing op VarHandleOp in device /job:localhost/replica:0/task:0/device:GPU:0\n",
      "Executing op AssignVariableOp in device /job:localhost/replica:0/task:0/device:GPU:0\n",
      "Executing op VarHandleOp in device /job:localhost/replica:0/task:0/device:GPU:0\n",
      "Executing op AssignVariableOp in device /job:localhost/replica:0/task:0/device:GPU:0\n",
      "Executing op _EagerConst in device /job:localhost/replica:0/task:0/device:GPU:0\n",
      "Executing op _EagerConst in device /job:localhost/replica:0/task:0/device:GPU:0\n",
      "Executing op _EagerConst in device /job:localhost/replica:0/task:0/device:GPU:0\n",
      "Executing op _EagerConst in device /job:localhost/replica:0/task:0/device:GPU:0\n",
      "Executing op StatelessRandomGetKeyCounter in device /job:localhost/replica:0/task:0/device:GPU:0\n",
      "Executing op _EagerConst in device /job:localhost/replica:0/task:0/device:GPU:0\n",
      "Executing op StatelessRandomUniformV2 in device /job:localhost/replica:0/task:0/device:GPU:0\n",
      "Executing op Sub in device /job:localhost/replica:0/task:0/device:GPU:0\n",
      "Executing op Mul in device /job:localhost/replica:0/task:0/device:GPU:0\n",
      "Executing op AddV2 in device /job:localhost/replica:0/task:0/device:GPU:0\n",
      "Executing op VarHandleOp in device /job:localhost/replica:0/task:0/device:GPU:0\n",
      "Executing op AssignVariableOp in device /job:localhost/replica:0/task:0/device:GPU:0\n",
      "Executing op _EagerConst in device /job:localhost/replica:0/task:0/device:GPU:0\n",
      "Executing op _EagerConst in device /job:localhost/replica:0/task:0/device:GPU:0\n",
      "Executing op Fill in device /job:localhost/replica:0/task:0/device:GPU:0\n",
      "Executing op VarHandleOp in device /job:localhost/replica:0/task:0/device:GPU:0\n",
      "Executing op AssignVariableOp in device /job:localhost/replica:0/task:0/device:GPU:0\n",
      "Executing op _EagerConst in device /job:localhost/replica:0/task:0/device:GPU:0\n",
      "Executing op _EagerConst in device /job:localhost/replica:0/task:0/device:GPU:0\n",
      "Executing op _EagerConst in device /job:localhost/replica:0/task:0/device:GPU:0\n",
      "Executing op _EagerConst in device /job:localhost/replica:0/task:0/device:GPU:0\n",
      "Executing op StatelessRandomGetKeyCounter in device /job:localhost/replica:0/task:0/device:GPU:0\n",
      "Executing op StatelessRandomUniformV2 in device /job:localhost/replica:0/task:0/device:GPU:0\n",
      "Executing op Sub in device /job:localhost/replica:0/task:0/device:GPU:0\n",
      "Executing op Mul in device /job:localhost/replica:0/task:0/device:GPU:0\n",
      "Executing op AddV2 in device /job:localhost/replica:0/task:0/device:GPU:0\n",
      "Executing op VarHandleOp in device /job:localhost/replica:0/task:0/device:GPU:0\n",
      "Executing op AssignVariableOp in device /job:localhost/replica:0/task:0/device:GPU:0\n",
      "Executing op _EagerConst in device /job:localhost/replica:0/task:0/device:GPU:0\n",
      "Executing op Fill in device /job:localhost/replica:0/task:0/device:GPU:0\n",
      "Executing op VarHandleOp in device /job:localhost/replica:0/task:0/device:GPU:0\n",
      "Executing op AssignVariableOp in device /job:localhost/replica:0/task:0/device:GPU:0\n",
      "Executing op _EagerConst in device /job:localhost/replica:0/task:0/device:GPU:0\n",
      "Executing op _EagerConst in device /job:localhost/replica:0/task:0/device:GPU:0\n",
      "Executing op _EagerConst in device /job:localhost/replica:0/task:0/device:GPU:0\n",
      "Executing op _EagerConst in device /job:localhost/replica:0/task:0/device:GPU:0\n",
      "Executing op StatelessRandomGetKeyCounter in device /job:localhost/replica:0/task:0/device:GPU:0\n",
      "Executing op StatelessRandomUniformV2 in device /job:localhost/replica:0/task:0/device:GPU:0\n",
      "Executing op Sub in device /job:localhost/replica:0/task:0/device:GPU:0\n",
      "Executing op Mul in device /job:localhost/replica:0/task:0/device:GPU:0\n",
      "Executing op AddV2 in device /job:localhost/replica:0/task:0/device:GPU:0\n",
      "Executing op VarHandleOp in device /job:localhost/replica:0/task:0/device:GPU:0\n",
      "Executing op AssignVariableOp in device /job:localhost/replica:0/task:0/device:GPU:0\n",
      "Executing op _EagerConst in device /job:localhost/replica:0/task:0/device:GPU:0\n",
      "Executing op Fill in device /job:localhost/replica:0/task:0/device:GPU:0\n",
      "Executing op VarHandleOp in device /job:localhost/replica:0/task:0/device:GPU:0\n",
      "Executing op AssignVariableOp in device /job:localhost/replica:0/task:0/device:GPU:0\n",
      "Executing op _EagerConst in device /job:localhost/replica:0/task:0/device:GPU:0\n",
      "Executing op _EagerConst in device /job:localhost/replica:0/task:0/device:GPU:0\n",
      "Executing op _EagerConst in device /job:localhost/replica:0/task:0/device:GPU:0\n",
      "Executing op _EagerConst in device /job:localhost/replica:0/task:0/device:GPU:0\n",
      "Executing op StatelessRandomGetKeyCounter in device /job:localhost/replica:0/task:0/device:GPU:0\n",
      "Executing op StatelessRandomUniformV2 in device /job:localhost/replica:0/task:0/device:GPU:0\n",
      "Executing op Sub in device /job:localhost/replica:0/task:0/device:GPU:0\n",
      "Executing op Mul in device /job:localhost/replica:0/task:0/device:GPU:0\n",
      "Executing op AddV2 in device /job:localhost/replica:0/task:0/device:GPU:0\n",
      "Executing op VarHandleOp in device /job:localhost/replica:0/task:0/device:GPU:0\n",
      "Executing op AssignVariableOp in device /job:localhost/replica:0/task:0/device:GPU:0\n",
      "Executing op _EagerConst in device /job:localhost/replica:0/task:0/device:GPU:0\n",
      "Executing op Fill in device /job:localhost/replica:0/task:0/device:GPU:0\n",
      "Executing op VarHandleOp in device /job:localhost/replica:0/task:0/device:GPU:0\n",
      "Executing op AssignVariableOp in device /job:localhost/replica:0/task:0/device:GPU:0\n"
     ]
    }
   ],
   "source": [
    "##---------Type the code below this line------------------##\n",
    "regularizer = keras.regularizers.L2()\n",
    "model_5layers = keras.Sequential([\n",
    "    keras.layers.Flatten(input_shape = (32,32,3)),\n",
    "    # keras.layers.Dense(3000, activation = \"relu\"),  # hidden layer#1 with 3000 units (because previous flattened layer is supplying 32x32x3 = 3072 elements)\n",
    "    keras.layers.Dense(1536, activation = \"relu\", kernel_regularizer=regularizer, bias_regularizer=regularizer),  # hidden layer#1 with 1536 units (complete guesswork here as to why we've choses 1536 nodes)\n",
    "    keras.layers.Dense(768, activation = \"relu\", kernel_regularizer=regularizer, bias_regularizer=regularizer),  # hidden layer#2 with 768 units (complete guesswork here as to why we've choses 768 nodes)\n",
    "    keras.layers.Dense(384, activation = \"relu\", kernel_regularizer=regularizer, bias_regularizer=regularizer),  # hidden layer#3 with 384 units (complete guesswork here as to why we've choses 384 nodes)\n",
    "    # keras.layers.Dense(192, activation = \"relu\"),  # hidden layer#2 with 1000 units (complete guesswork here as to why we've choses 1000 nodes)\n",
    "    # keras.layers.Dense(96, activation = \"relu\"),  # hidden layer#2 with 1000 units (complete guesswork here as to why we've choses 1000 nodes)\n",
    "    # keras.layers.Dense(48, activation = \"relu\"),  # hidden layer#2 with 1000 units (complete guesswork here as to why we've choses 1000 nodes)\n",
    "    # keras.layers.Dense(24, activation = \"relu\"),  # hidden layer#2 with 1000 units (complete guesswork here as to why we've choses 1000 nodes)\n",
    "    keras.layers.Dense(10, activation='sigmoid'),   # output layer\n",
    "])"
   ]
  },
  {
   "cell_type": "markdown",
   "id": "575f9e37",
   "metadata": {
    "id": "575f9e37"
   },
   "source": [
    "## 4.2 DNN Report\n",
    "\n",
    "Report the following and provide justification for the same.\n",
    "\n",
    "\n",
    "\n",
    "* Number of layers\n",
    "* Number of units in each layer\n",
    "* Total number of trainable parameters \n",
    "\n"
   ]
  },
  {
   "cell_type": "code",
   "execution_count": 18,
   "id": "6ad56d90",
   "metadata": {
    "id": "4d614311"
   },
   "outputs": [
    {
     "name": "stdout",
     "output_type": "stream",
     "text": [
      "Number of layers =  5\n",
      "Number of units in layer # 1 = 3072\n",
      "Number of units in layer # 2 = 1536\n",
      "Number of units in layer # 3 = 768\n",
      "Number of units in layer # 4 = 384\n",
      "Number of units in layer # 5 = 10\n",
      "Total number of trainable parameters =  6199690\n"
     ]
    }
   ],
   "source": [
    "##---------Type the answer below this line------------------##\n",
    "print(\"Number of layers = \", len(model_5layers.layers))\n",
    "for i in range(len(model_5layers.layers)):\n",
    "    print(\"Number of units in layer #\", (i+1), \"=\", model_5layers.layers[i].output_shape[1])\n",
    "print(\"Total number of trainable parameters = \", model_5layers.count_params())"
   ]
  },
  {
   "attachments": {},
   "cell_type": "markdown",
   "id": "bdbc82a1",
   "metadata": {
    "id": "bdbc82a1"
   },
   "source": [
    "# 5. Training the model"
   ]
  },
  {
   "cell_type": "markdown",
   "id": "ca214eb3",
   "metadata": {
    "id": "ca214eb3"
   },
   "source": [
    "## 5.1 Configure the training\n",
    "\n",
    "Configure  the model for training, by using appropriate optimizers and regularizations\n",
    "\n",
    "Compile with categorical CE loss and metric accuracy."
   ]
  },
  {
   "cell_type": "code",
   "execution_count": 19,
   "id": "a85e9754",
   "metadata": {
    "id": "a85e9754"
   },
   "outputs": [
    {
     "name": "stdout",
     "output_type": "stream",
     "text": [
      "Executing op VarHandleOp in device /job:localhost/replica:0/task:0/device:GPU:0\n",
      "Executing op AssignVariableOp in device /job:localhost/replica:0/task:0/device:GPU:0\n",
      "Executing op _EagerConst in device /job:localhost/replica:0/task:0/device:GPU:0\n",
      "Executing op VarHandleOp in device /job:localhost/replica:0/task:0/device:GPU:0\n",
      "Executing op AssignVariableOp in device /job:localhost/replica:0/task:0/device:GPU:0\n",
      "Executing op _EagerConst in device /job:localhost/replica:0/task:0/device:GPU:0\n",
      "Executing op Fill in device /job:localhost/replica:0/task:0/device:GPU:0\n",
      "Executing op VarHandleOp in device /job:localhost/replica:0/task:0/device:GPU:0\n",
      "Executing op AssignVariableOp in device /job:localhost/replica:0/task:0/device:GPU:0\n",
      "Executing op _EagerConst in device /job:localhost/replica:0/task:0/device:GPU:0\n",
      "Executing op Fill in device /job:localhost/replica:0/task:0/device:GPU:0\n",
      "Executing op VarHandleOp in device /job:localhost/replica:0/task:0/device:GPU:0\n",
      "Executing op AssignVariableOp in device /job:localhost/replica:0/task:0/device:GPU:0\n",
      "Executing op _EagerConst in device /job:localhost/replica:0/task:0/device:GPU:0\n",
      "Executing op Fill in device /job:localhost/replica:0/task:0/device:GPU:0\n",
      "Executing op VarHandleOp in device /job:localhost/replica:0/task:0/device:GPU:0\n",
      "Executing op AssignVariableOp in device /job:localhost/replica:0/task:0/device:GPU:0\n",
      "Executing op _EagerConst in device /job:localhost/replica:0/task:0/device:GPU:0\n",
      "Executing op Fill in device /job:localhost/replica:0/task:0/device:GPU:0\n",
      "Executing op VarHandleOp in device /job:localhost/replica:0/task:0/device:GPU:0\n",
      "Executing op AssignVariableOp in device /job:localhost/replica:0/task:0/device:GPU:0\n",
      "Executing op _EagerConst in device /job:localhost/replica:0/task:0/device:GPU:0\n",
      "Executing op Fill in device /job:localhost/replica:0/task:0/device:GPU:0\n",
      "Executing op VarHandleOp in device /job:localhost/replica:0/task:0/device:GPU:0\n",
      "Executing op AssignVariableOp in device /job:localhost/replica:0/task:0/device:GPU:0\n",
      "Executing op _EagerConst in device /job:localhost/replica:0/task:0/device:GPU:0\n",
      "Executing op Fill in device /job:localhost/replica:0/task:0/device:GPU:0\n",
      "Executing op VarHandleOp in device /job:localhost/replica:0/task:0/device:GPU:0\n",
      "Executing op AssignVariableOp in device /job:localhost/replica:0/task:0/device:GPU:0\n",
      "Executing op _EagerConst in device /job:localhost/replica:0/task:0/device:GPU:0\n",
      "Executing op Fill in device /job:localhost/replica:0/task:0/device:GPU:0\n",
      "Executing op VarHandleOp in device /job:localhost/replica:0/task:0/device:GPU:0\n",
      "Executing op AssignVariableOp in device /job:localhost/replica:0/task:0/device:GPU:0\n",
      "Executing op _EagerConst in device /job:localhost/replica:0/task:0/device:GPU:0\n",
      "Executing op Fill in device /job:localhost/replica:0/task:0/device:GPU:0\n",
      "Executing op VarHandleOp in device /job:localhost/replica:0/task:0/device:GPU:0\n",
      "Executing op AssignVariableOp in device /job:localhost/replica:0/task:0/device:GPU:0\n",
      "Executing op _EagerConst in device /job:localhost/replica:0/task:0/device:GPU:0\n",
      "Executing op VarHandleOp in device /job:localhost/replica:0/task:0/device:GPU:0\n",
      "Executing op AssignVariableOp in device /job:localhost/replica:0/task:0/device:GPU:0\n"
     ]
    }
   ],
   "source": [
    "##---------Type the code below this line------------------##\n",
    "model_5layers.compile(\n",
    "    optimizer=keras.optimizers.experimental.SGD(momentum=0.01),    # Gradient descent (with momentum) optimizer, as mandated in section 5.2.\n",
    "    loss=keras.losses.CategoricalCrossentropy(),    # Categorical CE loss, as mandated above (also required because our target label is one-hot encoded).\n",
    "    metrics=[\n",
    "        keras.metrics.Accuracy(),\n",
    "        keras.metrics.Precision(),\n",
    "        keras.metrics.Recall(),\n",
    "        ],\n",
    ")"
   ]
  },
  {
   "cell_type": "markdown",
   "id": "32fd60d8",
   "metadata": {},
   "source": [
    "## 5.2 Train the model\n",
    "\n",
    "Train Model with cross validation, with total time taken shown for 20 epochs.\n",
    "\n",
    "Use SGD."
   ]
  },
  {
   "cell_type": "code",
   "execution_count": 20,
   "id": "8efaa227",
   "metadata": {},
   "outputs": [
    {
     "name": "stdout",
     "output_type": "stream",
     "text": [
      "Executing op _EagerConst in device /job:localhost/replica:0/task:0/device:GPU:0\n",
      "Executing op _EagerConst in device /job:localhost/replica:0/task:0/device:GPU:0\n",
      "Executing op _EagerConst in device /job:localhost/replica:0/task:0/device:GPU:0\n",
      "Executing op _EagerConst in device /job:localhost/replica:0/task:0/device:GPU:0\n",
      "Executing op RangeDataset in device /job:localhost/replica:0/task:0/device:CPU:0\n",
      "Executing op _EagerConst in device /job:localhost/replica:0/task:0/device:GPU:0\n",
      "Executing op RepeatDataset in device /job:localhost/replica:0/task:0/device:CPU:0\n",
      "Executing op MapDataset in device /job:localhost/replica:0/task:0/device:CPU:0\n",
      "Executing op PrefetchDataset in device /job:localhost/replica:0/task:0/device:CPU:0\n",
      "Executing op FlatMapDataset in device /job:localhost/replica:0/task:0/device:CPU:0\n",
      "Executing op TensorDataset in device /job:localhost/replica:0/task:0/device:CPU:0\n",
      "Executing op _EagerConst in device /job:localhost/replica:0/task:0/device:GPU:0\n",
      "Executing op RepeatDataset in device /job:localhost/replica:0/task:0/device:CPU:0\n",
      "Executing op ZipDataset in device /job:localhost/replica:0/task:0/device:CPU:0\n",
      "Executing op ParallelMapDatasetV2 in device /job:localhost/replica:0/task:0/device:CPU:0\n",
      "Executing op OptionsDataset in device /job:localhost/replica:0/task:0/device:CPU:0\n",
      "Executing op OptionsDataset in device /job:localhost/replica:0/task:0/device:CPU:0\n",
      "Executing op ReadVariableOp in device /job:localhost/replica:0/task:0/device:GPU:0\n",
      "Executing op Identity in device /job:localhost/replica:0/task:0/device:GPU:0\n",
      "Executing op ReadVariableOp in device /job:localhost/replica:0/task:0/device:GPU:0\n",
      "Executing op Identity in device /job:localhost/replica:0/task:0/device:GPU:0\n",
      "Executing op ReadVariableOp in device /job:localhost/replica:0/task:0/device:GPU:0\n",
      "Executing op Identity in device /job:localhost/replica:0/task:0/device:GPU:0\n",
      "Executing op AssignVariableOp in device /job:localhost/replica:0/task:0/device:GPU:0\n",
      "Executing op ReadVariableOp in device /job:localhost/replica:0/task:0/device:GPU:0\n",
      "Executing op Identity in device /job:localhost/replica:0/task:0/device:GPU:0\n",
      "Executing op ReadVariableOp in device /job:localhost/replica:0/task:0/device:GPU:0\n",
      "Executing op Identity in device /job:localhost/replica:0/task:0/device:GPU:0\n",
      "Executing op AnonymousIteratorV3 in device /job:localhost/replica:0/task:0/device:CPU:0\n",
      "Executing op MakeIterator in device /job:localhost/replica:0/task:0/device:CPU:0\n",
      "Epoch 1/20\n",
      "Executing op ReadVariableOp in device /job:localhost/replica:0/task:0/device:GPU:0\n",
      "Executing op Identity in device /job:localhost/replica:0/task:0/device:GPU:0\n",
      "Executing op _EagerConst in device /job:localhost/replica:0/task:0/device:GPU:0\n",
      "Executing op _EagerConst in device /job:localhost/replica:0/task:0/device:GPU:0\n",
      "Executing op Fill in device /job:localhost/replica:0/task:0/device:GPU:0\n",
      "Executing op VarHandleOp in device /job:localhost/replica:0/task:0/device:GPU:0\n",
      "Executing op AssignVariableOp in device /job:localhost/replica:0/task:0/device:GPU:0\n",
      "Executing op _EagerConst in device /job:localhost/replica:0/task:0/device:GPU:0\n",
      "Executing op Fill in device /job:localhost/replica:0/task:0/device:GPU:0\n",
      "Executing op VarHandleOp in device /job:localhost/replica:0/task:0/device:GPU:0\n",
      "Executing op AssignVariableOp in device /job:localhost/replica:0/task:0/device:GPU:0\n",
      "Executing op _EagerConst in device /job:localhost/replica:0/task:0/device:GPU:0\n",
      "Executing op Fill in device /job:localhost/replica:0/task:0/device:GPU:0\n",
      "Executing op VarHandleOp in device /job:localhost/replica:0/task:0/device:GPU:0\n",
      "Executing op AssignVariableOp in device /job:localhost/replica:0/task:0/device:GPU:0\n",
      "Executing op _EagerConst in device /job:localhost/replica:0/task:0/device:GPU:0\n",
      "Executing op Fill in device /job:localhost/replica:0/task:0/device:GPU:0\n",
      "Executing op VarHandleOp in device /job:localhost/replica:0/task:0/device:GPU:0\n",
      "Executing op AssignVariableOp in device /job:localhost/replica:0/task:0/device:GPU:0\n",
      "Executing op _EagerConst in device /job:localhost/replica:0/task:0/device:GPU:0\n",
      "Executing op Fill in device /job:localhost/replica:0/task:0/device:GPU:0\n",
      "Executing op VarHandleOp in device /job:localhost/replica:0/task:0/device:GPU:0\n",
      "Executing op AssignVariableOp in device /job:localhost/replica:0/task:0/device:GPU:0\n",
      "Executing op _EagerConst in device /job:localhost/replica:0/task:0/device:GPU:0\n",
      "Executing op Fill in device /job:localhost/replica:0/task:0/device:GPU:0\n",
      "Executing op VarHandleOp in device /job:localhost/replica:0/task:0/device:GPU:0\n",
      "Executing op AssignVariableOp in device /job:localhost/replica:0/task:0/device:GPU:0\n",
      "Executing op _EagerConst in device /job:localhost/replica:0/task:0/device:GPU:0\n",
      "Executing op Fill in device /job:localhost/replica:0/task:0/device:GPU:0\n",
      "Executing op VarHandleOp in device /job:localhost/replica:0/task:0/device:GPU:0\n",
      "Executing op AssignVariableOp in device /job:localhost/replica:0/task:0/device:GPU:0\n",
      "Executing op _EagerConst in device /job:localhost/replica:0/task:0/device:GPU:0\n",
      "Executing op Fill in device /job:localhost/replica:0/task:0/device:GPU:0\n",
      "Executing op VarHandleOp in device /job:localhost/replica:0/task:0/device:GPU:0\n",
      "Executing op AssignVariableOp in device /job:localhost/replica:0/task:0/device:GPU:0\n",
      "Executing op __inference_train_function_1166 in device /job:localhost/replica:0/task:0/device:GPU:0\n"
     ]
    },
    {
     "ename": "UnimplementedError",
     "evalue": "Graph execution error:\n\nDetected at node 'StatefulPartitionedCall_6' defined at (most recent call last):\n    File \"C:\\Program Files\\Python310\\lib\\runpy.py\", line 196, in _run_module_as_main\n      return _run_code(code, main_globals, None,\n    File \"C:\\Program Files\\Python310\\lib\\runpy.py\", line 86, in _run_code\n      exec(code, run_globals)\n    File \"d:\\Tutorials\\Python\\TensorFlow\\tfdml_plugin\\lib\\site-packages\\ipykernel_launcher.py\", line 17, in <module>\n      app.launch_new_instance()\n    File \"d:\\Tutorials\\Python\\TensorFlow\\tfdml_plugin\\lib\\site-packages\\traitlets\\config\\application.py\", line 1043, in launch_instance\n      app.start()\n    File \"d:\\Tutorials\\Python\\TensorFlow\\tfdml_plugin\\lib\\site-packages\\ipykernel\\kernelapp.py\", line 725, in start\n      self.io_loop.start()\n    File \"d:\\Tutorials\\Python\\TensorFlow\\tfdml_plugin\\lib\\site-packages\\tornado\\platform\\asyncio.py\", line 195, in start\n      self.asyncio_loop.run_forever()\n    File \"C:\\Program Files\\Python310\\lib\\asyncio\\base_events.py\", line 603, in run_forever\n      self._run_once()\n    File \"C:\\Program Files\\Python310\\lib\\asyncio\\base_events.py\", line 1909, in _run_once\n      handle._run()\n    File \"C:\\Program Files\\Python310\\lib\\asyncio\\events.py\", line 80, in _run\n      self._context.run(self._callback, *self._args)\n    File \"d:\\Tutorials\\Python\\TensorFlow\\tfdml_plugin\\lib\\site-packages\\ipykernel\\kernelbase.py\", line 513, in dispatch_queue\n      await self.process_one()\n    File \"d:\\Tutorials\\Python\\TensorFlow\\tfdml_plugin\\lib\\site-packages\\ipykernel\\kernelbase.py\", line 502, in process_one\n      await dispatch(*args)\n    File \"d:\\Tutorials\\Python\\TensorFlow\\tfdml_plugin\\lib\\site-packages\\ipykernel\\kernelbase.py\", line 409, in dispatch_shell\n      await result\n    File \"d:\\Tutorials\\Python\\TensorFlow\\tfdml_plugin\\lib\\site-packages\\ipykernel\\kernelbase.py\", line 729, in execute_request\n      reply_content = await reply_content\n    File \"d:\\Tutorials\\Python\\TensorFlow\\tfdml_plugin\\lib\\site-packages\\ipykernel\\ipkernel.py\", line 422, in do_execute\n      res = shell.run_cell(\n    File \"d:\\Tutorials\\Python\\TensorFlow\\tfdml_plugin\\lib\\site-packages\\ipykernel\\zmqshell.py\", line 540, in run_cell\n      return super().run_cell(*args, **kwargs)\n    File \"d:\\Tutorials\\Python\\TensorFlow\\tfdml_plugin\\lib\\site-packages\\IPython\\core\\interactiveshell.py\", line 3009, in run_cell\n      result = self._run_cell(\n    File \"d:\\Tutorials\\Python\\TensorFlow\\tfdml_plugin\\lib\\site-packages\\IPython\\core\\interactiveshell.py\", line 3064, in _run_cell\n      result = runner(coro)\n    File \"d:\\Tutorials\\Python\\TensorFlow\\tfdml_plugin\\lib\\site-packages\\IPython\\core\\async_helpers.py\", line 129, in _pseudo_sync_runner\n      coro.send(None)\n    File \"d:\\Tutorials\\Python\\TensorFlow\\tfdml_plugin\\lib\\site-packages\\IPython\\core\\interactiveshell.py\", line 3269, in run_cell_async\n      has_raised = await self.run_ast_nodes(code_ast.body, cell_name,\n    File \"d:\\Tutorials\\Python\\TensorFlow\\tfdml_plugin\\lib\\site-packages\\IPython\\core\\interactiveshell.py\", line 3448, in run_ast_nodes\n      if await self.run_code(code, result, async_=asy):\n    File \"d:\\Tutorials\\Python\\TensorFlow\\tfdml_plugin\\lib\\site-packages\\IPython\\core\\interactiveshell.py\", line 3508, in run_code\n      exec(code_obj, self.user_global_ns, self.user_ns)\n    File \"C:\\Users\\admin\\AppData\\Local\\Temp\\ipykernel_2248\\2710308037.py\", line 3, in <module>\n      history_5layers_model = model_5layers.fit(x_train,y_train, epochs=20, validation_split=(1/20))\n    File \"d:\\Tutorials\\Python\\TensorFlow\\tfdml_plugin\\lib\\site-packages\\keras\\utils\\traceback_utils.py\", line 65, in error_handler\n      return fn(*args, **kwargs)\n    File \"d:\\Tutorials\\Python\\TensorFlow\\tfdml_plugin\\lib\\site-packages\\keras\\engine\\training.py\", line 1564, in fit\n      tmp_logs = self.train_function(iterator)\n    File \"d:\\Tutorials\\Python\\TensorFlow\\tfdml_plugin\\lib\\site-packages\\keras\\engine\\training.py\", line 1160, in train_function\n      return step_function(self, iterator)\n    File \"d:\\Tutorials\\Python\\TensorFlow\\tfdml_plugin\\lib\\site-packages\\keras\\engine\\training.py\", line 1146, in step_function\n      outputs = model.distribute_strategy.run(run_step, args=(data,))\n    File \"d:\\Tutorials\\Python\\TensorFlow\\tfdml_plugin\\lib\\site-packages\\keras\\engine\\training.py\", line 1135, in run_step\n      outputs = model.train_step(data)\n    File \"d:\\Tutorials\\Python\\TensorFlow\\tfdml_plugin\\lib\\site-packages\\keras\\engine\\training.py\", line 997, in train_step\n      self.optimizer.minimize(loss, self.trainable_variables, tape=tape)\n    File \"d:\\Tutorials\\Python\\TensorFlow\\tfdml_plugin\\lib\\site-packages\\keras\\optimizers\\optimizer_experimental\\optimizer.py\", line 481, in minimize\n      self.apply_gradients(grads_and_vars)\n    File \"d:\\Tutorials\\Python\\TensorFlow\\tfdml_plugin\\lib\\site-packages\\keras\\optimizers\\optimizer_experimental\\optimizer.py\", line 940, in apply_gradients\n      super().apply_gradients(grads_and_vars)\n    File \"d:\\Tutorials\\Python\\TensorFlow\\tfdml_plugin\\lib\\site-packages\\keras\\optimizers\\optimizer_experimental\\optimizer.py\", line 526, in apply_gradients\n      self._internal_apply_gradients(grads_and_vars)\n    File \"d:\\Tutorials\\Python\\TensorFlow\\tfdml_plugin\\lib\\site-packages\\keras\\optimizers\\optimizer_experimental\\optimizer.py\", line 943, in _internal_apply_gradients\n      tf.__internal__.distribute.interim.maybe_merge_call(\n    File \"d:\\Tutorials\\Python\\TensorFlow\\tfdml_plugin\\lib\\site-packages\\keras\\optimizers\\optimizer_experimental\\optimizer.py\", line 993, in _distributed_apply_gradients_fn\n      distribution.extended.update(\n    File \"d:\\Tutorials\\Python\\TensorFlow\\tfdml_plugin\\lib\\site-packages\\keras\\optimizers\\optimizer_experimental\\optimizer.py\", line 988, in apply_grad_to_update_var\n      return self._update_step_xla(grad, var, id(self._var_key(var)))\nNode: 'StatefulPartitionedCall_6'\nCould not find compiler for platform DML: NOT_FOUND: could not find registered compiler for platform DML -- was support for that platform linked in?\n\t [[{{node StatefulPartitionedCall_6}}]] [Op:__inference_train_function_1166]",
     "output_type": "error",
     "traceback": [
      "\u001b[1;31m---------------------------------------------------------------------------\u001b[0m",
      "\u001b[1;31mUnimplementedError\u001b[0m                        Traceback (most recent call last)",
      "Cell \u001b[1;32mIn[20], line 3\u001b[0m\n\u001b[0;32m      1\u001b[0m \u001b[39m##---------Type the code below this line------------------##\u001b[39;00m\n\u001b[0;32m      2\u001b[0m \u001b[39mwith\u001b[39;00m tf\u001b[39m.\u001b[39mdevice(\u001b[39m'\u001b[39m\u001b[39m/GPU:0\u001b[39m\u001b[39m'\u001b[39m):\n\u001b[1;32m----> 3\u001b[0m     history_5layers_model \u001b[39m=\u001b[39m model_5layers\u001b[39m.\u001b[39;49mfit(x_train,y_train, epochs\u001b[39m=\u001b[39;49m\u001b[39m20\u001b[39;49m, validation_split\u001b[39m=\u001b[39;49m(\u001b[39m1\u001b[39;49m\u001b[39m/\u001b[39;49m\u001b[39m20\u001b[39;49m))\n",
      "File \u001b[1;32md:\\Tutorials\\Python\\TensorFlow\\tfdml_plugin\\lib\\site-packages\\keras\\utils\\traceback_utils.py:70\u001b[0m, in \u001b[0;36mfilter_traceback.<locals>.error_handler\u001b[1;34m(*args, **kwargs)\u001b[0m\n\u001b[0;32m     67\u001b[0m     filtered_tb \u001b[39m=\u001b[39m _process_traceback_frames(e\u001b[39m.\u001b[39m__traceback__)\n\u001b[0;32m     68\u001b[0m     \u001b[39m# To get the full stack trace, call:\u001b[39;00m\n\u001b[0;32m     69\u001b[0m     \u001b[39m# `tf.debugging.disable_traceback_filtering()`\u001b[39;00m\n\u001b[1;32m---> 70\u001b[0m     \u001b[39mraise\u001b[39;00m e\u001b[39m.\u001b[39mwith_traceback(filtered_tb) \u001b[39mfrom\u001b[39;00m \u001b[39mNone\u001b[39;00m\n\u001b[0;32m     71\u001b[0m \u001b[39mfinally\u001b[39;00m:\n\u001b[0;32m     72\u001b[0m     \u001b[39mdel\u001b[39;00m filtered_tb\n",
      "File \u001b[1;32md:\\Tutorials\\Python\\TensorFlow\\tfdml_plugin\\lib\\site-packages\\tensorflow\\python\\eager\\execute.py:54\u001b[0m, in \u001b[0;36mquick_execute\u001b[1;34m(op_name, num_outputs, inputs, attrs, ctx, name)\u001b[0m\n\u001b[0;32m     52\u001b[0m \u001b[39mtry\u001b[39;00m:\n\u001b[0;32m     53\u001b[0m   ctx\u001b[39m.\u001b[39mensure_initialized()\n\u001b[1;32m---> 54\u001b[0m   tensors \u001b[39m=\u001b[39m pywrap_tfe\u001b[39m.\u001b[39mTFE_Py_Execute(ctx\u001b[39m.\u001b[39m_handle, device_name, op_name,\n\u001b[0;32m     55\u001b[0m                                       inputs, attrs, num_outputs)\n\u001b[0;32m     56\u001b[0m \u001b[39mexcept\u001b[39;00m core\u001b[39m.\u001b[39m_NotOkStatusException \u001b[39mas\u001b[39;00m e:\n\u001b[0;32m     57\u001b[0m   \u001b[39mif\u001b[39;00m name \u001b[39mis\u001b[39;00m \u001b[39mnot\u001b[39;00m \u001b[39mNone\u001b[39;00m:\n",
      "\u001b[1;31mUnimplementedError\u001b[0m: Graph execution error:\n\nDetected at node 'StatefulPartitionedCall_6' defined at (most recent call last):\n    File \"C:\\Program Files\\Python310\\lib\\runpy.py\", line 196, in _run_module_as_main\n      return _run_code(code, main_globals, None,\n    File \"C:\\Program Files\\Python310\\lib\\runpy.py\", line 86, in _run_code\n      exec(code, run_globals)\n    File \"d:\\Tutorials\\Python\\TensorFlow\\tfdml_plugin\\lib\\site-packages\\ipykernel_launcher.py\", line 17, in <module>\n      app.launch_new_instance()\n    File \"d:\\Tutorials\\Python\\TensorFlow\\tfdml_plugin\\lib\\site-packages\\traitlets\\config\\application.py\", line 1043, in launch_instance\n      app.start()\n    File \"d:\\Tutorials\\Python\\TensorFlow\\tfdml_plugin\\lib\\site-packages\\ipykernel\\kernelapp.py\", line 725, in start\n      self.io_loop.start()\n    File \"d:\\Tutorials\\Python\\TensorFlow\\tfdml_plugin\\lib\\site-packages\\tornado\\platform\\asyncio.py\", line 195, in start\n      self.asyncio_loop.run_forever()\n    File \"C:\\Program Files\\Python310\\lib\\asyncio\\base_events.py\", line 603, in run_forever\n      self._run_once()\n    File \"C:\\Program Files\\Python310\\lib\\asyncio\\base_events.py\", line 1909, in _run_once\n      handle._run()\n    File \"C:\\Program Files\\Python310\\lib\\asyncio\\events.py\", line 80, in _run\n      self._context.run(self._callback, *self._args)\n    File \"d:\\Tutorials\\Python\\TensorFlow\\tfdml_plugin\\lib\\site-packages\\ipykernel\\kernelbase.py\", line 513, in dispatch_queue\n      await self.process_one()\n    File \"d:\\Tutorials\\Python\\TensorFlow\\tfdml_plugin\\lib\\site-packages\\ipykernel\\kernelbase.py\", line 502, in process_one\n      await dispatch(*args)\n    File \"d:\\Tutorials\\Python\\TensorFlow\\tfdml_plugin\\lib\\site-packages\\ipykernel\\kernelbase.py\", line 409, in dispatch_shell\n      await result\n    File \"d:\\Tutorials\\Python\\TensorFlow\\tfdml_plugin\\lib\\site-packages\\ipykernel\\kernelbase.py\", line 729, in execute_request\n      reply_content = await reply_content\n    File \"d:\\Tutorials\\Python\\TensorFlow\\tfdml_plugin\\lib\\site-packages\\ipykernel\\ipkernel.py\", line 422, in do_execute\n      res = shell.run_cell(\n    File \"d:\\Tutorials\\Python\\TensorFlow\\tfdml_plugin\\lib\\site-packages\\ipykernel\\zmqshell.py\", line 540, in run_cell\n      return super().run_cell(*args, **kwargs)\n    File \"d:\\Tutorials\\Python\\TensorFlow\\tfdml_plugin\\lib\\site-packages\\IPython\\core\\interactiveshell.py\", line 3009, in run_cell\n      result = self._run_cell(\n    File \"d:\\Tutorials\\Python\\TensorFlow\\tfdml_plugin\\lib\\site-packages\\IPython\\core\\interactiveshell.py\", line 3064, in _run_cell\n      result = runner(coro)\n    File \"d:\\Tutorials\\Python\\TensorFlow\\tfdml_plugin\\lib\\site-packages\\IPython\\core\\async_helpers.py\", line 129, in _pseudo_sync_runner\n      coro.send(None)\n    File \"d:\\Tutorials\\Python\\TensorFlow\\tfdml_plugin\\lib\\site-packages\\IPython\\core\\interactiveshell.py\", line 3269, in run_cell_async\n      has_raised = await self.run_ast_nodes(code_ast.body, cell_name,\n    File \"d:\\Tutorials\\Python\\TensorFlow\\tfdml_plugin\\lib\\site-packages\\IPython\\core\\interactiveshell.py\", line 3448, in run_ast_nodes\n      if await self.run_code(code, result, async_=asy):\n    File \"d:\\Tutorials\\Python\\TensorFlow\\tfdml_plugin\\lib\\site-packages\\IPython\\core\\interactiveshell.py\", line 3508, in run_code\n      exec(code_obj, self.user_global_ns, self.user_ns)\n    File \"C:\\Users\\admin\\AppData\\Local\\Temp\\ipykernel_2248\\2710308037.py\", line 3, in <module>\n      history_5layers_model = model_5layers.fit(x_train,y_train, epochs=20, validation_split=(1/20))\n    File \"d:\\Tutorials\\Python\\TensorFlow\\tfdml_plugin\\lib\\site-packages\\keras\\utils\\traceback_utils.py\", line 65, in error_handler\n      return fn(*args, **kwargs)\n    File \"d:\\Tutorials\\Python\\TensorFlow\\tfdml_plugin\\lib\\site-packages\\keras\\engine\\training.py\", line 1564, in fit\n      tmp_logs = self.train_function(iterator)\n    File \"d:\\Tutorials\\Python\\TensorFlow\\tfdml_plugin\\lib\\site-packages\\keras\\engine\\training.py\", line 1160, in train_function\n      return step_function(self, iterator)\n    File \"d:\\Tutorials\\Python\\TensorFlow\\tfdml_plugin\\lib\\site-packages\\keras\\engine\\training.py\", line 1146, in step_function\n      outputs = model.distribute_strategy.run(run_step, args=(data,))\n    File \"d:\\Tutorials\\Python\\TensorFlow\\tfdml_plugin\\lib\\site-packages\\keras\\engine\\training.py\", line 1135, in run_step\n      outputs = model.train_step(data)\n    File \"d:\\Tutorials\\Python\\TensorFlow\\tfdml_plugin\\lib\\site-packages\\keras\\engine\\training.py\", line 997, in train_step\n      self.optimizer.minimize(loss, self.trainable_variables, tape=tape)\n    File \"d:\\Tutorials\\Python\\TensorFlow\\tfdml_plugin\\lib\\site-packages\\keras\\optimizers\\optimizer_experimental\\optimizer.py\", line 481, in minimize\n      self.apply_gradients(grads_and_vars)\n    File \"d:\\Tutorials\\Python\\TensorFlow\\tfdml_plugin\\lib\\site-packages\\keras\\optimizers\\optimizer_experimental\\optimizer.py\", line 940, in apply_gradients\n      super().apply_gradients(grads_and_vars)\n    File \"d:\\Tutorials\\Python\\TensorFlow\\tfdml_plugin\\lib\\site-packages\\keras\\optimizers\\optimizer_experimental\\optimizer.py\", line 526, in apply_gradients\n      self._internal_apply_gradients(grads_and_vars)\n    File \"d:\\Tutorials\\Python\\TensorFlow\\tfdml_plugin\\lib\\site-packages\\keras\\optimizers\\optimizer_experimental\\optimizer.py\", line 943, in _internal_apply_gradients\n      tf.__internal__.distribute.interim.maybe_merge_call(\n    File \"d:\\Tutorials\\Python\\TensorFlow\\tfdml_plugin\\lib\\site-packages\\keras\\optimizers\\optimizer_experimental\\optimizer.py\", line 993, in _distributed_apply_gradients_fn\n      distribution.extended.update(\n    File \"d:\\Tutorials\\Python\\TensorFlow\\tfdml_plugin\\lib\\site-packages\\keras\\optimizers\\optimizer_experimental\\optimizer.py\", line 988, in apply_grad_to_update_var\n      return self._update_step_xla(grad, var, id(self._var_key(var)))\nNode: 'StatefulPartitionedCall_6'\nCould not find compiler for platform DML: NOT_FOUND: could not find registered compiler for platform DML -- was support for that platform linked in?\n\t [[{{node StatefulPartitionedCall_6}}]] [Op:__inference_train_function_1166]"
     ]
    }
   ],
   "source": [
    "##---------Type the code below this line------------------##\n",
    "with tf.device('/GPU:0'):\n",
    "    history_5layers_model = model_5layers.fit(x_train,y_train, epochs=20, validation_split=(1/20))"
   ]
  },
  {
   "cell_type": "markdown",
   "id": "19bd0c56",
   "metadata": {},
   "source": [
    "Justify your choice of optimizers and regulizations used and the hyperparameters tuned\n"
   ]
  },
  {
   "cell_type": "code",
   "execution_count": null,
   "id": "b89d2981",
   "metadata": {},
   "outputs": [],
   "source": [
    "##---------Type the  below this line------------------##\n",
    "################################################################################################################################\n",
    "# - SGD Optimier is a relatively simple optimizer to implement and understand.\n",
    "# - L2 regularization is a simple regularization, which helps to prevent overfitting.\n",
    "# - Hyperparameters tune:\n",
    "#       - No. of layers: A 5 layer neural network is a good starting point for a small dataset like CIFAR10. \n",
    "#       - Number of neurons per layer: We have chosen 1536, 768, 384, and 10 neurons per layer, respectively. This is a reasonable number of neurons for each layer. A larger number of neurons could potentially improve accuracy, but it would also increase the risk of overfitting.\n",
    "#       - Learning rate: Used the default SGD optimizer learning rate (0.001), which is a small value to prevent the model from oscillating during training.\n",
    "#       - Momentum: A momentum of 0.01 is small \n",
    "#       - Accuracy metric: Being a balanced data, accuracy is a good metric for model evaluation to train a model on the CIFAR10 dataset.\n",
    "################################################################################################################################"
   ]
  },
  {
   "attachments": {},
   "cell_type": "markdown",
   "id": "06f1173c",
   "metadata": {
    "id": "06f1173c"
   },
   "source": [
    "# 6. Test the model\n"
   ]
  },
  {
   "cell_type": "code",
   "execution_count": null,
   "id": "7042235d",
   "metadata": {
    "id": "7042235d"
   },
   "outputs": [],
   "source": [
    "##---------Type the code below this line------------------##\n",
    "lossAndMetrics_5layers_model = model_5layers.evaluate(x_test, y_test,return_dict=True)"
   ]
  },
  {
   "attachments": {},
   "cell_type": "markdown",
   "id": "eb57940c",
   "metadata": {
    "id": "eb57940c"
   },
   "source": [
    "# 7. Intermediate result\n",
    "\n",
    "1. Plot the training and validation accuracy history.\n",
    "2. Plot the training and validation loss history. \n",
    "3. Report the testing accuracy and loss.\n",
    "4. Show Confusion Matrix for testing dataset.\n",
    "5. Report values for preformance study metrics like accuracy, precision, recall, F1 Score.\n"
   ]
  },
  {
   "cell_type": "code",
   "execution_count": null,
   "id": "55a03506",
   "metadata": {},
   "outputs": [],
   "source": [
    "##---------Type the code below this line------------------##\n",
    "# 7.1. Plot the training and validation accuracy history\n",
    "plt.plot(history_5layers_model.history['accuracy'])\n",
    "plt.plot(history_5layers_model.history['val_accuracy'])\n",
    "plt.title('Training and Validation Accuracy History')\n",
    "plt.ylabel('Accuracy')\n",
    "plt.xlabel('Epoch')\n",
    "plt.legend(['Train', 'Validation'], loc='upper left')\n",
    "plt.show()"
   ]
  },
  {
   "cell_type": "code",
   "execution_count": null,
   "id": "a4f173fe",
   "metadata": {},
   "outputs": [],
   "source": [
    "# 7.2. Plot the training and validation loss history\n",
    "plt.plot(history_5layers_model.history['loss'])\n",
    "plt.plot(history_5layers_model.history['val_loss'])\n",
    "plt.title('Training and Validation Loss History')\n",
    "plt.ylabel('Loss')\n",
    "plt.xlabel('Epoch')\n",
    "plt.legend(['Train', 'Validation'], loc='upper left')\n",
    "plt.show()"
   ]
  },
  {
   "cell_type": "code",
   "execution_count": null,
   "id": "8707503c",
   "metadata": {},
   "outputs": [],
   "source": [
    "# 7.3. Report the testing accuracy and loss.\n",
    "lossAndMetrics_5layers_model"
   ]
  },
  {
   "cell_type": "code",
   "execution_count": null,
   "id": "d8908368",
   "metadata": {},
   "outputs": [],
   "source": [
    "# 7.4. Show Confusion Matrix for testing dataset.\n",
    "actualLabels = tf.math.argmax(y_test, axis=1)\n",
    "predictedLabels = tf.math.argmax(input=model_5layers.predict(x_test), axis=1)\n",
    "tf.math.confusion_matrix(\n",
    "    labels=actualLabels,\n",
    "    predictions=predictedLabels\n",
    ")"
   ]
  },
  {
   "cell_type": "code",
   "execution_count": null,
   "id": "d795a15e",
   "metadata": {},
   "outputs": [],
   "source": [
    "################################################################################################################################\n",
    "# 7.5. Report values for preformance study metrics like accuracy, precision, recall, F1 Score.\n",
    "#       - This task is already accomplished in step 7.3. above.\n",
    "################################################################################################################################"
   ]
  },
  {
   "attachments": {},
   "cell_type": "markdown",
   "id": "c8146c5b",
   "metadata": {},
   "source": [
    "# 8. Model architecture\n",
    "\n",
    "\n",
    "Modify the architecture designed in section 4.1 \n",
    "\n",
    "1. by decreasing one layer\n",
    "2. by increasing one layer\n",
    "\n",
    "For example, if the architecture in 4.1 has 5 layers, then 8.1 should have 4 layers and 8.2 should have 6 layers.\n",
    "\n",
    "Plot the comparison of the training and validation accuracy of the three architecures (4.1, 8.1 and 8.2)\n",
    "\n"
   ]
  },
  {
   "cell_type": "code",
   "execution_count": null,
   "id": "b15e18d9",
   "metadata": {},
   "outputs": [],
   "source": [
    "##---------Type the code below this line------------------##\n",
    "model_4layers = keras.Sequential([\n",
    "    keras.layers.Flatten(input_shape = (32,32,3)),\n",
    "    keras.layers.Dense(1536, activation = \"relu\", kernel_regularizer=regularizer, bias_regularizer=regularizer),  # hidden layer#1 with 1536 units (complete guesswork here as to why we've choses 1536 nodes)\n",
    "    keras.layers.Dense(768, activation = \"relu\", kernel_regularizer=regularizer, bias_regularizer=regularizer),  # hidden layer#2 with 768 units (complete guesswork here as to why we've choses 768 nodes)\n",
    "    keras.layers.Dense(10, activation='sigmoid'),   # output layer\n",
    "])\n",
    "model_6layers = keras.Sequential([\n",
    "    keras.layers.Flatten(input_shape = (32,32,3)),\n",
    "    keras.layers.Dense(1536, activation = \"relu\", kernel_regularizer=regularizer, bias_regularizer=regularizer),  # hidden layer#1 with 1536 units (complete guesswork here as to why we've choses 1536 nodes)\n",
    "    keras.layers.Dense(768, activation = \"relu\", kernel_regularizer=regularizer, bias_regularizer=regularizer),  # hidden layer#2 with 768 units (complete guesswork here as to why we've choses 768 nodes)\n",
    "    keras.layers.Dense(384, activation = \"relu\", kernel_regularizer=regularizer, bias_regularizer=regularizer),  # hidden layer#3 with 384 units (complete guesswork here as to why we've choses 384 nodes)\n",
    "    keras.layers.Dense(192, activation = \"relu\"),  # hidden layer#2 with 1000 units (complete guesswork here as to why we've choses 1000 nodes)\n",
    "    keras.layers.Dense(10, activation='sigmoid'),   # output layer\n",
    "])"
   ]
  },
  {
   "cell_type": "code",
   "execution_count": null,
   "id": "17a4ff4e",
   "metadata": {},
   "outputs": [],
   "source": [
    "model_4layers.compile(\n",
    "    optimizer=keras.optimizers.experimental.SGD(momentum=0.01),    # Gradient descent (with momentum) optimizer, as mandated in section 5.2.\n",
    "    loss=keras.losses.CategoricalCrossentropy(),    # Categorical CE loss, as mandated above (also required because our target label is one-hot encoded).\n",
    "    metrics=[\n",
    "        keras.metrics.Accuracy(),\n",
    "        keras.metrics.Precision(),\n",
    "        keras.metrics.Recall(),\n",
    "        ],\n",
    ")\n",
    "model_6layers.compile(\n",
    "    optimizer=keras.optimizers.experimental.SGD(momentum=0.01),    # Gradient descent (with momentum) optimizer, as mandated in section 5.2.\n",
    "    loss=keras.losses.CategoricalCrossentropy(),    # Categorical CE loss, as mandated above (also required because our target label is one-hot encoded).\n",
    "    metrics=[\n",
    "        keras.metrics.Accuracy(),\n",
    "        keras.metrics.Precision(),\n",
    "        keras.metrics.Recall(),\n",
    "        ],\n",
    ")\n",
    "history_4layers_model = model_4layers.fit(x_train,y_train, epochs=20, validation_split=(1/20))\n",
    "history_6layers_model = model_6layers.fit(x_train,y_train, epochs=20, validation_split=(1/20))"
   ]
  },
  {
   "cell_type": "code",
   "execution_count": null,
   "id": "b37ec0c1",
   "metadata": {},
   "outputs": [],
   "source": [
    "################################################################################################################################################\n",
    "# Comparison of the training and validation accuracy of the three architecures (4.1, 8.1 and 8.2)\n",
    "################################################################################################################################################\n",
    "plt.plot(history_4layers_model.history['accuracy'])\n",
    "plt.plot(history_4layers_model.history['val_accuracy'])\n",
    "plt.plot(history_5layers_model.history['accuracy'])\n",
    "plt.plot(history_5layers_model.history['val_accuracy'])\n",
    "plt.plot(history_6layers_model.history['accuracy'])\n",
    "plt.plot(history_6layers_model.history['val_accuracy'])\n",
    "plt.title('Training and Validation Accuracy History')\n",
    "plt.ylabel('Accuracy')\n",
    "plt.xlabel('Epoch')\n",
    "plt.legend([\n",
    "    '4-Layers Training Accuracy', '4-Layers Validation Accuracy', \n",
    "    '5-Layers Training Accuracy', '5-Layers Validation Accuracy', \n",
    "    '6-Layers Training Accuracy', '6-Layers Validation Accuracy', \n",
    "    ], \n",
    "    loc='upper left')\n",
    "plt.show()"
   ]
  },
  {
   "attachments": {},
   "cell_type": "markdown",
   "id": "d8d38cb0",
   "metadata": {},
   "source": [
    "# 9. Regularisations\n",
    "\n",
    "Modify the architecture designed in section 4.1\n",
    "\n",
    "1. Dropout of ratio 0.25\n",
    "2. Dropout of ratio 0.25 with L2 regulariser with factor 1e−04. \n",
    "\n",
    "Plot the comparison of the training and validation accuracy of the three (4.1, 9.1 and 9.2)\n",
    "\n"
   ]
  },
  {
   "cell_type": "code",
   "execution_count": null,
   "id": "7497b710",
   "metadata": {},
   "outputs": [],
   "source": [
    "##---------Type the code below this line------------------##\n",
    "################################################################\n",
    "# 9.1. 5-layered model with dropout, without regularization.\n",
    "################################################################\n",
    "model_5layers_withDropout_WithoutRegularization = keras.Sequential([\n",
    "    keras.layers.Flatten(input_shape = (32,32,3)),\n",
    "    keras.layers.Dense(1536, activation = \"relu\", ),  # hidden layer#1 with 1536 units (complete guesswork here as to why we've choses 1536 nodes)\n",
    "    keras.layers.Dropout(rate=0.25),                 # Dropout layer of ratio 0.25.\n",
    "    keras.layers.Dense(768, activation = \"relu\",),  # hidden layer#2 with 768 units (complete guesswork here as to why we've choses 768 nodes)\n",
    "    keras.layers.Dropout(rate=0.25),                 # Dropout layer of ratio 0.25.\n",
    "    keras.layers.Dense(384, activation = \"relu\",),  # hidden layer#3 with 384 units (complete guesswork here as to why we've choses 384 nodes)\n",
    "    keras.layers.Dropout(rate=0.25),                 # Dropout layer of ratio 0.25.\n",
    "    keras.layers.Dense(10, activation='sigmoid'),   # output layer\n",
    "])\n",
    "################################################################################################################################\n",
    "# 9.2. 5-layered model with dropout, with L2 regularization with factor 1e-04.\n",
    "################################################################################################################################\n",
    "regularizer2 = keras.regularizers.L2(l2 = 1e-04)\n",
    "model_5layers_withDropout_WithRegularization = keras.Sequential([\n",
    "    keras.layers.Flatten(input_shape = (32,32,3)),\n",
    "    keras.layers.Dense(1536, activation = \"relu\", ),  # hidden layer#1 with 1536 units (complete guesswork here as to why we've choses 1536 nodes)\n",
    "    keras.layers.Dropout(rate=0.25),                 # Dropout layer of ratio 0.25.\n",
    "    keras.layers.Dense(768, activation = \"relu\",),  # hidden layer#2 with 768 units (complete guesswork here as to why we've choses 768 nodes)\n",
    "    keras.layers.Dropout(rate=0.25),                 # Dropout layer of ratio 0.25.\n",
    "    keras.layers.Dense(384, activation = \"relu\",),  # hidden layer#3 with 384 units (complete guesswork here as to why we've choses 384 nodes)\n",
    "    keras.layers.Dropout(rate=0.25),                 # Dropout layer of ratio 0.25.\n",
    "    keras.layers.Dense(10, activation='sigmoid'),   # output layer\n",
    "])"
   ]
  },
  {
   "cell_type": "code",
   "execution_count": null,
   "id": "c346809c",
   "metadata": {},
   "outputs": [],
   "source": [
    "model_5layers_withDropout_WithoutRegularization.compile(\n",
    "    optimizer=keras.optimizers.experimental.SGD(momentum=0.01),    # Gradient descent (with momentum) optimizer, as mandated in section 5.2.\n",
    "    loss=keras.losses.CategoricalCrossentropy(),    # Categorical CE loss, as mandated above (also required because our target label is one-hot encoded).\n",
    "    metrics=[\n",
    "        keras.metrics.Accuracy(),\n",
    "        keras.metrics.Precision(),\n",
    "        keras.metrics.Recall(),\n",
    "        ],\n",
    ")\n",
    "model_5layers_withDropout_WithRegularization.compile(\n",
    "    optimizer=keras.optimizers.experimental.SGD(momentum=0.01),    # Gradient descent (with momentum) optimizer, as mandated in section 5.2.\n",
    "    loss=keras.losses.CategoricalCrossentropy(),    # Categorical CE loss, as mandated above (also required because our target label is one-hot encoded).\n",
    "    metrics=[\n",
    "        keras.metrics.Accuracy(),\n",
    "        keras.metrics.Precision(),\n",
    "        keras.metrics.Recall(),\n",
    "        ],\n",
    ")"
   ]
  },
  {
   "cell_type": "code",
   "execution_count": null,
   "id": "b5a04124",
   "metadata": {},
   "outputs": [],
   "source": [
    "history_5layers_model_withDropout_WithoutRegularization = model_5layers_withDropout_WithoutRegularization.fit(x_train,y_train, epochs=20, validation_split=(1/20))\n",
    "history_5layers_model_withDropout_WithRegularization = model_5layers_withDropout_WithRegularization.fit(x_train,y_train, epochs=20, validation_split=(1/20))"
   ]
  },
  {
   "cell_type": "code",
   "execution_count": null,
   "id": "567d4ff6",
   "metadata": {},
   "outputs": [],
   "source": [
    "################################################################################################################################################\n",
    "# Comparison of the training and validation accuracy of the three (4.1, 9.1 and 9.2)\n",
    "################################################################################################################################################\n",
    "plt.plot(history_5layers_model.history['accuracy'])\n",
    "plt.plot(history_5layers_model.history['val_accuracy'])\n",
    "plt.plot(history_5layers_model_withDropout_WithoutRegularization.history['accuracy'])\n",
    "plt.plot(history_5layers_model_withDropout_WithoutRegularization.history['val_accuracy'])\n",
    "plt.plot(history_5layers_model_withDropout_WithRegularization.history['accuracy'])\n",
    "plt.plot(history_5layers_model_withDropout_WithRegularization.history['val_accuracy'])\n",
    "plt.title('Training and Validation Accuracy History')\n",
    "plt.ylabel('Accuracy')\n",
    "plt.xlabel('Epoch')\n",
    "plt.legend([\n",
    "    '5-Layers (w/o Dropout, with L2 Regularization) Training Accuracy', '5-Layers Training (w/o Dropout, with L2 Regularization) Validation Accuracy', \n",
    "    '5-Layers (with Dropout, w/o Regularization) Training Accuracy', '5-Layers (with Dropout, w/o Regularization) Validation Accuracy', \n",
    "    '5-Layers (with Dropout, with L2 Regularization) Training Accuracy', '5-Layers (with Dropout, with L2 Regularization) Validation Accuracy', \n",
    "    ], \n",
    "    loc='upper left')\n",
    "plt.show()"
   ]
  },
  {
   "attachments": {},
   "cell_type": "markdown",
   "id": "6529c4a9",
   "metadata": {},
   "source": [
    "# 10. Optimisers\n",
    "\n",
    "Modify the code written in section 5.2\n",
    "\n",
    "1. RMSProp with your choice of hyper parameters\n",
    "2. Adam with your choice of hyper parameters\n",
    "\n",
    "Plot the comparison of the training and validation accuracy of the three (5.2, 10.1 and 10.2)\n"
   ]
  },
  {
   "cell_type": "code",
   "execution_count": null,
   "id": "9bf06eb1",
   "metadata": {
    "id": "9bf06eb1"
   },
   "outputs": [],
   "source": [
    "##---------Type the code below this line------------------##\n",
    "model_5layers.compile(\n",
    "    optimizer=keras.optimizers.experimental.RMSprop(learning_rate=0.01),    # RMSProp optimizer, as mandated in section 10.1.\n",
    "    loss=keras.losses.CategoricalCrossentropy(),    # Categorical CE loss, as mandated above (also required because our target label is one-hot encoded).\n",
    "    metrics=[\n",
    "        keras.metrics.Accuracy(),\n",
    "        keras.metrics.Precision(),\n",
    "        keras.metrics.Recall(),\n",
    "        ],\n",
    ")\n",
    "history_5layers_model_RMSProp = model_5layers.fit(x_train,y_train, epochs=20, validation_split=(1/20))"
   ]
  },
  {
   "cell_type": "code",
   "execution_count": null,
   "id": "8d36a916",
   "metadata": {},
   "outputs": [],
   "source": [
    "model_5layers.compile(\n",
    "    optimizer=keras.optimizers.Adam(learning_rate=0.01),    # Adam optimizer, as mandated in section 10.2.\n",
    "    loss=keras.losses.CategoricalCrossentropy(),    # Categorical CE loss, as mandated above (also required because our target label is one-hot encoded).\n",
    "    metrics=[\n",
    "        keras.metrics.Accuracy(),\n",
    "        keras.metrics.Precision(),\n",
    "        keras.metrics.Recall(),\n",
    "        ],\n",
    ")\n",
    "history_5layers_model_Adam = model_5layers.fit(x_train,y_train, epochs=20, validation_split=(1/20))"
   ]
  },
  {
   "attachments": {},
   "cell_type": "markdown",
   "id": "7c7522aa",
   "metadata": {},
   "source": [
    "# 11. Conclusion\n",
    "\n",
    "Comparing the sections 4.1, 5.2, 8, 9, and 10, present your observations on which model or architecture or regualiser or optimiser perfomed better.\n"
   ]
  },
  {
   "cell_type": "code",
   "execution_count": null,
   "id": "bc51130d",
   "metadata": {},
   "outputs": [],
   "source": [
    "##---------Type the code below this line------------------##"
   ]
  }
 ],
 "metadata": {
  "colab": {
   "provenance": []
  },
  "kernelspec": {
   "display_name": "Python 3 (ipykernel)",
   "language": "python",
   "name": "python3"
  },
  "language_info": {
   "codemirror_mode": {
    "name": "ipython",
    "version": 3
   },
   "file_extension": ".py",
   "mimetype": "text/x-python",
   "name": "python",
   "nbconvert_exporter": "python",
   "pygments_lexer": "ipython3",
   "version": "3.10.11"
  }
 },
 "nbformat": 4,
 "nbformat_minor": 5
}
